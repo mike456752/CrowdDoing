{
 "cells": [
  {
   "attachments": {},
   "cell_type": "markdown",
   "metadata": {},
   "source": [
    "This code reads a list of questions from a file called \"questions.txt\", sends each question to the OpenAI API, and writes the corresponding answer to a file called \"qna.txt\".\n",
    "\n",
    "When you use the code, here are three things you need to do:\n",
    "- Your Open AI API\n",
    "- Create questions file: Questions.txt\n",
    "- Create Questions and answers files:qna.txt\n",
    "\n",
    "I have use ########### to remind you where you should put them in the code"
   ]
  },
  {
   "cell_type": "code",
   "execution_count": 1,
   "metadata": {},
   "outputs": [],
   "source": [
    "import requests\n",
    "import json"
   ]
  },
  {
   "cell_type": "code",
   "execution_count": 2,
   "metadata": {},
   "outputs": [],
   "source": [
    "# Define the API endpoint and API key\n",
    "endpoint = \"https://api.openai.com/v1/completions\"\n",
    "api_key = \"\"  ###########input your open AI API"
   ]
  },
  {
   "cell_type": "code",
   "execution_count": 3,
   "metadata": {},
   "outputs": [],
   "source": [
    "# Store the questions and answers in a string\n",
    "qna_string = \"\"\n",
    "divider = \"----------------------------------\""
   ]
  },
  {
   "cell_type": "code",
   "execution_count": 4,
   "metadata": {},
   "outputs": [
    {
     "name": "stdout",
     "output_type": "stream",
     "text": [
      "Error: {\n",
      "    \"error\": {\n",
      "        \"message\": \"You exceeded your current quota, please check your plan and billing details.\",\n",
      "        \"type\": \"insufficient_quota\",\n",
      "        \"param\": null,\n",
      "        \"code\": null\n",
      "    }\n",
      "}\n",
      "\n"
     ]
    }
   ],
   "source": [
    "# Read questions.txt file line by line\n",
    "with open(\"\", \"r\") as f: ###########create a txt file(questions.txt) and input the path of the file. In this file, you should add the questions you want to ask chatgpt to answer\n",
    "  lines = f.readlines()\n",
    "  for question in lines:\n",
    "    # Define the API request data\n",
    "    data = {\n",
    "        \"model\": \"text-davinci-003\",\n",
    "        \"prompt\": question,\n",
    "        \"max_tokens\": 2000\n",
    "    }\n",
    "\n",
    "    # Set the API key as a header in the API request\n",
    "    headers = {\n",
    "        \"Content-Type\": \"application/json\",\n",
    "        \"Authorization\": f\"Bearer {api_key}\"\n",
    "    }\n",
    "\n",
    "    # Send the API request and get the response\n",
    "    response = requests.post(endpoint, headers=headers, data=json.dumps(data))\n",
    "\n",
    "    # Check if the API request was successful\n",
    "    if response.status_code == 200:\n",
    "      # Get the response text and print it\n",
    "      result = response.json()[\"choices\"][0][\"text\"]\n",
    "      qna_string = qna_string + \"Q. \" + question + \\\n",
    "          \"A. \" + (str(result)).strip() + \"\\n\\n\" + divider + \"\\n\\n\"\n",
    "\n",
    "    else:\n",
    "      # Print the error message if the API request was not successful\n",
    "      qna_string = qna_string + \"Q. \" + question + \"A. \" + \\\n",
    "          response.text + \"\\n\\n\" + divider + \"\\n\\n\"\n",
    "      print(\"Error:\", response.text)\n"
   ]
  },
  {
   "cell_type": "code",
   "execution_count": 5,
   "metadata": {},
   "outputs": [
    {
     "name": "stdout",
     "output_type": "stream",
     "text": [
      "Q. what is the dosage of dry leaves of lemon balm used to treat or reduce mild stress and anxiety for an 18 years old and younger Hispanic or Latino womanA. {\n",
      "    \"error\": {\n",
      "        \"message\": \"You exceeded your current quota, please check your plan and billing details.\",\n",
      "        \"type\": \"insufficient_quota\",\n",
      "        \"param\": null,\n",
      "        \"code\": null\n",
      "    }\n",
      "}\n",
      "\n",
      "\n",
      "----------------------------------\n",
      "\n",
      "\n"
     ]
    }
   ],
   "source": [
    "  # Write the questions and response text to a file\n",
    "  with open(\"\", \"w\") as f: ###########create a txt file(qna.txt) and input the path of the file. This file is use to receive the question and answers\n",
    "    f.write(qna_string)\n",
    "\n",
    "  print(qna_string)\n"
   ]
  },
  {
   "cell_type": "code",
   "execution_count": null,
   "metadata": {},
   "outputs": [],
   "source": []
  },
  {
   "cell_type": "code",
   "execution_count": null,
   "metadata": {},
   "outputs": [],
   "source": []
  },
  {
   "cell_type": "code",
   "execution_count": null,
   "metadata": {},
   "outputs": [],
   "source": []
  },
  {
   "cell_type": "code",
   "execution_count": null,
   "metadata": {},
   "outputs": [],
   "source": []
  }
 ],
 "metadata": {
  "kernelspec": {
   "display_name": "untitled",
   "language": "python",
   "name": "python3"
  },
  "language_info": {
   "codemirror_mode": {
    "name": "ipython",
    "version": 3
   },
   "file_extension": ".py",
   "mimetype": "text/x-python",
   "name": "python",
   "nbconvert_exporter": "python",
   "pygments_lexer": "ipython3",
   "version": "3.9.6"
  },
  "orig_nbformat": 4
 },
 "nbformat": 4,
 "nbformat_minor": 2
}
